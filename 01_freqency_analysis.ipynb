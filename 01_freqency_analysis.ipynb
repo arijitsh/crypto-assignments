{
 "cells": [
  {
   "cell_type": "code",
   "execution_count": 3,
   "metadata": {},
   "outputs": [
    {
     "name": "stdout",
     "output_type": "stream",
     "text": [
      "Last parsed site contains 9007 letters. Total letters parsed = 9007\n",
      "Last parsed site contains 6044 letters. Total letters parsed = 15051\n",
      "Last parsed site contains 10777 letters. Total letters parsed = 25828\n",
      "Last parsed site contains 15803 letters. Total letters parsed = 41631\n",
      "Last parsed site contains 10464 letters. Total letters parsed = 52095\n",
      "Last parsed site contains 15989 letters. Total letters parsed = 68084\n",
      "Last parsed site contains 10971 letters. Total letters parsed = 79055\n",
      "Last parsed site contains 11456 letters. Total letters parsed = 90511\n",
      "Last parsed site contains 12565 letters. Total letters parsed = 103076\n",
      "Last parsed site contains 7917 letters. Total letters parsed = 110993\n",
      "Last parsed site contains 22666 letters. Total letters parsed = 133659\n",
      "Last parsed site contains 21461 letters. Total letters parsed = 155120\n",
      "Last parsed site contains 23564 letters. Total letters parsed = 178684\n",
      "Last parsed site contains 19166 letters. Total letters parsed = 197850\n",
      "Last parsed site contains 14781 letters. Total letters parsed = 212631\n",
      "Last parsed site contains 8974 letters. Total letters parsed = 221605\n",
      "Last parsed site contains 13084 letters. Total letters parsed = 234689\n",
      "Last parsed site contains 9069 letters. Total letters parsed = 243758\n",
      "Last parsed site contains 19105 letters. Total letters parsed = 262863\n",
      "Last parsed site contains 11484 letters. Total letters parsed = 274347\n",
      "Last parsed site contains 8308 letters. Total letters parsed = 282655\n",
      "Last parsed site contains 11838 letters. Total letters parsed = 294493\n",
      "Last parsed site contains 10367 letters. Total letters parsed = 304860\n",
      "Last parsed site contains 9804 letters. Total letters parsed = 314664\n",
      "Last parsed site contains 11677 letters. Total letters parsed = 326341\n",
      "Last parsed site contains 6995 letters. Total letters parsed = 333336\n",
      "Last parsed site contains 11014 letters. Total letters parsed = 344350\n",
      "Last parsed site contains 21144 letters. Total letters parsed = 365494\n",
      "Last parsed site contains 11173 letters. Total letters parsed = 376667\n",
      "Last parsed site contains 15976 letters. Total letters parsed = 392643\n",
      "Last parsed site contains 9814 letters. Total letters parsed = 402457\n",
      "Last parsed site contains 8148 letters. Total letters parsed = 410605\n",
      "Last parsed site contains 11235 letters. Total letters parsed = 421840\n",
      "Last parsed site contains 14143 letters. Total letters parsed = 435983\n",
      "Last parsed site contains 7417 letters. Total letters parsed = 443400\n",
      "Last parsed site contains 8546 letters. Total letters parsed = 451946\n",
      "Last parsed site contains 8826 letters. Total letters parsed = 460772\n",
      "Last parsed site contains 19487 letters. Total letters parsed = 480259\n",
      "Last parsed site contains 36456 letters. Total letters parsed = 516715\n",
      "Last parsed site contains 8550 letters. Total letters parsed = 525265\n",
      "Last parsed site contains 5638 letters. Total letters parsed = 530903\n",
      "Last parsed site contains 9691 letters. Total letters parsed = 540594\n",
      "Last parsed site contains 8356 letters. Total letters parsed = 548950\n",
      "Last parsed site contains 10741 letters. Total letters parsed = 559691\n",
      "Last parsed site contains 12179 letters. Total letters parsed = 571870\n",
      "Last parsed site contains 7532 letters. Total letters parsed = 579402\n",
      "Last parsed site contains 9212 letters. Total letters parsed = 588614\n",
      "Last parsed site contains 8573 letters. Total letters parsed = 597187\n",
      "Last parsed site contains 8551 letters. Total letters parsed = 605738\n",
      "Last parsed site contains 10788 letters. Total letters parsed = 616526\n",
      "Last parsed site contains 11668 letters. Total letters parsed = 628194\n",
      "Last parsed site contains 11655 letters. Total letters parsed = 639849\n",
      "Last parsed site contains 8601 letters. Total letters parsed = 648450\n",
      "Last parsed site contains 7202 letters. Total letters parsed = 655652\n",
      "Last parsed site contains 10306 letters. Total letters parsed = 665958\n",
      "Last parsed site contains 6756 letters. Total letters parsed = 672714\n",
      "Last parsed site contains 6302 letters. Total letters parsed = 679016\n",
      "Last parsed site contains 9452 letters. Total letters parsed = 688468\n",
      "Last parsed site contains 6806 letters. Total letters parsed = 695274\n",
      "Last parsed site contains 41361 letters. Total letters parsed = 736635\n",
      "Last parsed site contains 11862 letters. Total letters parsed = 748497\n",
      "Last parsed site contains 13134 letters. Total letters parsed = 761631\n",
      "Last parsed site contains 6881 letters. Total letters parsed = 768512\n",
      "Last parsed site contains 11777 letters. Total letters parsed = 780289\n",
      "Last parsed site contains 10878 letters. Total letters parsed = 791167\n",
      "Last parsed site contains 6856 letters. Total letters parsed = 798023\n",
      "Last parsed site contains 9760 letters. Total letters parsed = 807783\n",
      "Last parsed site contains 15827 letters. Total letters parsed = 823610\n",
      "Last parsed site contains 9234 letters. Total letters parsed = 832844\n",
      "Last parsed site contains 8495 letters. Total letters parsed = 841339\n",
      "Last parsed site contains 12526 letters. Total letters parsed = 853865\n",
      "Last parsed site contains 8785 letters. Total letters parsed = 862650\n",
      "Last parsed site contains 9407 letters. Total letters parsed = 872057\n",
      "Last parsed site contains 8784 letters. Total letters parsed = 880841\n",
      "Last parsed site contains 10404 letters. Total letters parsed = 891245\n",
      "Last parsed site contains 12352 letters. Total letters parsed = 903597\n",
      "Last parsed site contains 10248 letters. Total letters parsed = 913845\n",
      "Last parsed site contains 9147 letters. Total letters parsed = 922992\n",
      "Last parsed site contains 16663 letters. Total letters parsed = 939655\n",
      "Last parsed site contains 11335 letters. Total letters parsed = 950990\n",
      "Last parsed site contains 9454 letters. Total letters parsed = 960444\n",
      "Last parsed site contains 9400 letters. Total letters parsed = 969844\n",
      "Last parsed site contains 6878 letters. Total letters parsed = 976722\n",
      "Last parsed site contains 9145 letters. Total letters parsed = 985867\n",
      "Last parsed site contains 14940 letters. Total letters parsed = 1000807\n",
      "{'e': 126083, 't': 89907, 'a': 86365, 'i': 82459, 'o': 68713, 's': 66617, 'r': 65441, 'n': 62055, 'l': 45290, 'd': 40472, 'c': 35690, 'u': 33316, 'p': 31129, 'm': 28750, 'g': 26183, 'h': 22644, 'w': 16492, 'b': 14712, 'y': 13891, 'k': 12224, 'f': 11514, 'v': 9633, 'x': 6171, 'z': 2276, 'j': 1128, 'q': 845}\n"
     ]
    },
    {
     "data": {
      "image/png": "[encoded data removed]",
      "text/plain": [
       "<Figure size 432x288 with 1 Axes>"
      ]
     },
     "metadata": {
      "needs_background": "light"
     },
     "output_type": "display_data"
    }
   ],
   "source": [
    "%run '01_frequency_analysis.py'"
   ]
  }
 ],
 "metadata": {
  "kernelspec": {
   "display_name": "Python 3",
   "language": "python",
   "name": "python3"
  },
  "language_info": {
   "codemirror_mode": {
    "name": "ipython",
    "version": 3
   },
   "file_extension": ".py",
   "mimetype": "text/x-python",
   "name": "python",
   "nbconvert_exporter": "python",
   "pygments_lexer": "ipython3",
   "version": "3.7.6"
  }
 },
 "nbformat": 4,
 "nbformat_minor": 1
}
