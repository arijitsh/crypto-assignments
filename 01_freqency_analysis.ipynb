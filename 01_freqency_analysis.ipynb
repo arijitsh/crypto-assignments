{
 "cells": [
  {
   "cell_type": "code",
   "execution_count": null,
   "metadata": {},
   "outputs": [
    {
     "name": "stdout",
     "output_type": "stream",
     "text": [
      "Last parsed site contains 9007 letters. Total letters parsed = 9007\n",
      "Last parsed site contains 6044 letters. Total letters parsed = 15051\n",
      "Last parsed site contains 10777 letters. Total letters parsed = 25828\n",
      "Last parsed site contains 15803 letters. Total letters parsed = 41631\n",
      "Last parsed site contains 10464 letters. Total letters parsed = 52095\n",
      "Last parsed site contains 15989 letters. Total letters parsed = 68084\n",
      "Last parsed site contains 10971 letters. Total letters parsed = 79055\n",
      "Last parsed site contains 11456 letters. Total letters parsed = 90511\n",
      "Last parsed site contains 12565 letters. Total letters parsed = 103076\n",
      "Last parsed site contains 7917 letters. Total letters parsed = 110993\n",
      "Last parsed site contains 22666 letters. Total letters parsed = 133659\n",
      "Last parsed site contains 21461 letters. Total letters parsed = 155120\n",
      "Last parsed site contains 23564 letters. Total letters parsed = 178684\n",
      "Last parsed site contains 19166 letters. Total letters parsed = 197850\n",
      "Last parsed site contains 14781 letters. Total letters parsed = 212631\n",
      "Last parsed site contains 8974 letters. Total letters parsed = 221605\n",
      "Last parsed site contains 13084 letters. Total letters parsed = 234689\n",
      "Last parsed site contains 9069 letters. Total letters parsed = 243758\n",
      "Last parsed site contains 19105 letters. Total letters parsed = 262863\n",
      "Last parsed site contains 11484 letters. Total letters parsed = 274347\n",
      "Last parsed site contains 8308 letters. Total letters parsed = 282655\n",
      "Last parsed site contains 11838 letters. Total letters parsed = 294493\n",
      "Last parsed site contains 10367 letters. Total letters parsed = 304860\n",
      "Last parsed site contains 9804 letters. Total letters parsed = 314664\n",
      "Last parsed site contains 11677 letters. Total letters parsed = 326341\n",
      "Last parsed site contains 6995 letters. Total letters parsed = 333336\n",
      "Last parsed site contains 11014 letters. Total letters parsed = 344350\n",
      "Last parsed site contains 21144 letters. Total letters parsed = 365494\n",
      "Last parsed site contains 11173 letters. Total letters parsed = 376667\n",
      "Last parsed site contains 15976 letters. Total letters parsed = 392643\n",
      "Last parsed site contains 9814 letters. Total letters parsed = 402457\n",
      "Last parsed site contains 8148 letters. Total letters parsed = 410605\n",
      "Last parsed site contains 11235 letters. Total letters parsed = 421840\n",
      "Last parsed site contains 14143 letters. Total letters parsed = 435983\n",
      "Last parsed site contains 7417 letters. Total letters parsed = 443400\n",
      "Last parsed site contains 8546 letters. Total letters parsed = 451946\n",
      "Last parsed site contains 8826 letters. Total letters parsed = 460772\n",
      "Last parsed site contains 19487 letters. Total letters parsed = 480259\n",
      "Last parsed site contains 36456 letters. Total letters parsed = 516715\n",
      "Last parsed site contains 8550 letters. Total letters parsed = 525265\n",
      "Last parsed site contains 5638 letters. Total letters parsed = 530903\n",
      "Last parsed site contains 9691 letters. Total letters parsed = 540594\n",
      "Last parsed site contains 8356 letters. Total letters parsed = 548950\n",
      "Last parsed site contains 10741 letters. Total letters parsed = 559691\n",
      "Last parsed site contains 12179 letters. Total letters parsed = 571870\n",
      "Last parsed site contains 7532 letters. Total letters parsed = 579402\n"
     ]
    }
   ],
   "source": [
    "%run '01_frequency_analysis.py'"
   ]
  }
 ],
 "metadata": {
  "kernelspec": {
   "display_name": "Python 3",
   "language": "python",
   "name": "python3"
  },
  "language_info": {
   "codemirror_mode": {
    "name": "ipython",
    "version": 3
   },
   "file_extension": ".py",
   "mimetype": "text/x-python",
   "name": "python",
   "nbconvert_exporter": "python",
   "pygments_lexer": "ipython3",
   "version": "3.7.6"
  }
 },
 "nbformat": 4,
 "nbformat_minor": 1
}
